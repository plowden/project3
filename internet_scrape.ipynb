{
 "cells": [
  {
   "cell_type": "code",
   "execution_count": 1,
   "metadata": {},
   "outputs": [],
   "source": [
    "# Dependencies\n",
    "import pymongo\n",
    "from splinter import Browser\n",
    "from bs4 import BeautifulSoup as bs\n",
    "import requests\n",
    "import datetime\n",
    "import calendar\n",
    "import time\n",
    "import re"
   ]
  },
  {
   "cell_type": "code",
   "execution_count": 2,
   "metadata": {},
   "outputs": [],
   "source": [
    "# Declare a dictionary to hold the scraped data.\n",
    "webex = {\n",
    "    \"months\": [],\n",
    "    \"hosts\": [],\n",
    "    \"participants\": [],\n",
    "    \"countries\": \"\",\n",
    "    \"meetings\": [],\n",
    "    \"minutes\": [],\n",
    "    \"timestamp\": datetime.datetime.strftime(datetime.datetime.utcnow(),'%m/%d/%y %H:%M:%S')\n",
    "}"
   ]
  },
  {
   "cell_type": "code",
   "execution_count": 3,
   "metadata": {},
   "outputs": [],
   "source": [
    "# Create a browser object for use by all the scrapes.\n",
    "# Need to do \"brew install geckodriver\" to use Firefox on Mac.\n",
    "\n",
    "def init_browser():\n",
    "    return Browser(\"firefox\")"
   ]
  },
  {
   "cell_type": "code",
   "execution_count": 22,
   "metadata": {},
   "outputs": [],
   "source": [
    "# This function gets the number of hours in a given month.\n",
    "def get_hours(month):\n",
    "    \"\"\"\n",
    "    Calculates the hours so far in a month.\n",
    "    Usage: get_hours(\"January 2020\") or get_hours(\"Current\")\n",
    "    \"\"\"\n",
    "    months = [\"January\", \"February\", \"March\", \"April\", \"May\", \"June\",\n",
    "            \"July\", \"August\", \"September\", \"October\", \"November\", \"December\"]\n",
    "    month_list = re.split(r'\\s', month)\n",
    "    month = month_list[0]\n",
    "    if month == \"Current\":\n",
    "        year = datetime.datetime.today().strftime(\"%Y\")\n",
    "        days = int(datetime.datetime.today().strftime(\"%d\"))\n",
    "    else:\n",
    "        year = month_list[1]\n",
    "        days = calendar.monthrange(int(year),int(months.index(month))+1)[1]\n",
    "    \n",
    "    complete_days = int(days) - 1\n",
    "    current_hours = int(datetime.datetime.strftime(datetime.datetime.utcnow(),'%H'))\n",
    "    \n",
    "    hours = (complete_days * 24) + current_hours\n",
    "\n",
    "    return hours\n"
   ]
  },
  {
   "cell_type": "code",
   "execution_count": 8,
   "metadata": {},
   "outputs": [],
   "source": [
    "# This function does the work of scraping the Webex web site.\n",
    "def scrape_webex():\n",
    "    browser = init_browser()\n",
    "\n",
    "    # Visit https://map.webex.com/\n",
    "    url = \"https://map.webex.com/\"\n",
    "    browser.visit(url)\n",
    "\n",
    "    # Give time for dynamic content to load\n",
    "    time.sleep(5)\n",
    "\n",
    "    # Scrape page into Soup\n",
    "    html = browser.html\n",
    "    soup = bs(html, \"html.parser\")\n",
    "\n",
    "    # Declare variables to store raw data.\n",
    "    month_ids = ['last2Month', 'lastMonth', 'nowMonth']\n",
    "    months = []\n",
    "    hosts_commas = []\n",
    "    hosts = []\n",
    "    participants_commas = []\n",
    "    participants = []\n",
    "    countries = []\n",
    "    meetings_commas = []\n",
    "    meetings = []\n",
    "    minutes = []\n",
    "    \n",
    "    # Iterate through the months; the data is in an iframe.\n",
    "    for month_id in month_ids:\n",
    "        with browser.get_iframe('meetingMap') as iframe:\n",
    "            iframe.click_link_by_id(month_id)\n",
    "            time.sleep(5)\n",
    "            iframe_html = iframe.html\n",
    "            iframe_soup = bs(iframe_html, \"html.parser\")\n",
    "            months.append(iframe_soup.find('span', id=month_id).get_text())\n",
    "            hosts_commas.append(re.search('title=\\\"(.*)\\\"', str(iframe_soup.find('span', id='hostData'))).group(1))\n",
    "            participants_commas.append(re.search('title=\\\"(.*)\\\"', str(iframe_soup.find('span', id='participantData'))).group(1))\n",
    "            countries.append(re.search('title=\\\"(.*)\\\"', str(iframe_soup.find('span', id='countryData'))).group(1))\n",
    "            meetings_commas.append(re.search('title=\\\"(.*)\\\"', str(iframe_soup.find('span', id='meetingData'))).group(1))\n",
    "            \n",
    "            # The minutes are in reverse order (high endian), so we have to turn them around.\n",
    "            mins = []\n",
    "            num = 11\n",
    "            while num > 0:\n",
    "                a = str(iframe_soup.find('div', id='num' + str(num)))\n",
    "                b = re.search(r'<span>(\\d*)', a).group(1)             \n",
    "                mins.append(b)\n",
    "                num = num - 1\n",
    "            mins_string = ''.join(map(str, mins))\n",
    "            minutes.append(mins_string)\n",
    "           \n",
    "    # Some numbers have commas, so we have to remove those.   \n",
    "    hosts =[s.replace(',', '') for s in hosts_commas]\n",
    "    participants = [s.replace(',', '') for s in participants_commas]\n",
    "    meetings = [s.replace(',', '') for s in meetings_commas]\n",
    "    \n",
    "    # The data is now ready.\n",
    "    webex = {\n",
    "        \"months\": months,\n",
    "        \"hosts\": hosts,\n",
    "        \"participants\": participants,\n",
    "        \"countries\": countries,\n",
    "        \"meetings\": meetings,\n",
    "        \"minutes\": minutes,\n",
    "        \"timestamp\": datetime.datetime.strftime(datetime.datetime.utcnow(),'%m/%d/%y %H:%M:%S')\n",
    "    }\n",
    "    \n",
    "\n",
    "    # Close the browser after scraping\n",
    "    browser.quit()\n",
    "\n",
    "    # Return results\n",
    "    return webex"
   ]
  },
  {
   "cell_type": "code",
   "execution_count": 6,
   "metadata": {},
   "outputs": [],
   "source": [
    "# Initialize PyMongo to work with MongoDBs\n",
    "conn = 'mongodb://localhost:27017'\n",
    "client = pymongo.MongoClient(conn)\n",
    "# Define database and collection\n",
    "db = client.webex\n",
    "webex_scrape = db.webex\n"
   ]
  },
  {
   "cell_type": "code",
   "execution_count": 7,
   "metadata": {},
   "outputs": [
    {
     "name": "stdout",
     "output_type": "stream",
     "text": [
      "hosts: $['24420815', '26000472', '26000472']\n"
     ]
    }
   ],
   "source": [
    "# Scrape the data and store in webex_days\n",
    "webex_days = scrape_webex()"
   ]
  },
  {
   "cell_type": "code",
   "execution_count": 9,
   "metadata": {},
   "outputs": [
    {
     "name": "stdout",
     "output_type": "stream",
     "text": [
      "months: ['February 2020', 'March 2020', 'Current']\n",
      "hosts: ['24420815', '26000472', '26000472']\n",
      "participants: ['161764828', '350692197', '22668772']\n",
      "countries: ['224', '220', '213']\n",
      "meetings: ['37994030', '73295312', '4396197']\n",
      "minutes: ['6787001490', '14300227112', '889875043']\n",
      "timestamp: 04/01/20 21:08:00\n"
     ]
    }
   ],
   "source": [
    "# DEBUG: print contents.\n",
    "print(f'months: {webex_days[\"months\"]}')\n",
    "print(f'hosts: {webex_days[\"hosts\"]}')\n",
    "print(f'participants: {webex_days[\"participants\"]}')\n",
    "print(f'countries: {webex_days[\"countries\"]}')\n",
    "print(f'meetings: {webex_days[\"meetings\"]}')\n",
    "print(f'minutes: {webex_days[\"minutes\"]}')\n",
    "print(f'timestamp: {webex_days[\"timestamp\"]}')"
   ]
  },
  {
   "cell_type": "code",
   "execution_count": 23,
   "metadata": {},
   "outputs": [
    {
     "name": "stdout",
     "output_type": "stream",
     "text": [
      "hours: 693\n",
      "hours: 741\n",
      "hours: 21\n"
     ]
    }
   ],
   "source": [
    "# Convert the data to hourly rate and store in webex\n",
    "hours = []\n",
    "for i in webex_days[\"months\"]:\n",
    "    hours_month = get_hours(i)\n",
    "    hours.append(hours_month)\n",
    "    \n",
    "webex = {\n",
    "    \"months\": [],\n",
    "    \"hosts\": [],\n",
    "    \"participants\": [],\n",
    "    \"countries\": \"\",\n",
    "    \"meetings\": [],\n",
    "    \"minutes\": [],\n",
    "    \"timestamp\": \"\"\n",
    "}\n",
    "\n",
    "for i in range(3):\n",
    "    webex[\"participants\"].append(round(int(webex_days[\"participants\"][i]) / hours[i]))\n",
    "    webex[\"meetings\"].append(round(int(webex_days[\"meetings\"][i]) / hours[i]))\n",
    "    webex[\"minutes\"].append(round(int(webex_days[\"minutes\"][i]) / hours[i]))\n",
    "\n",
    "webex[\"hosts\"] = webex_days[\"hosts\"]\n",
    "webex[\"months\"] = webex_days[\"months\"]\n",
    "webex[\"countries\"] = webex_days[\"countries\"]\n",
    "webex[\"timestamp\"] = webex_days[\"timestamp\"]"
   ]
  },
  {
   "cell_type": "code",
   "execution_count": 24,
   "metadata": {},
   "outputs": [
    {
     "name": "stdout",
     "output_type": "stream",
     "text": [
      "months: ['February 2020', 'March 2020', 'Current']\n",
      "hosts: ['24420815', '26000472', '26000472']\n",
      "participants: [233427, 473269, 1079465]\n",
      "countries: ['224', '220', '213']\n",
      "meetings: [54825, 98914, 209343]\n",
      "minutes: [9793653, 19298552, 42375002]\n",
      "timestamp: 04/01/20 21:08:00\n"
     ]
    }
   ],
   "source": [
    "# Debug: print data.\n",
    "print(f'months: {webex[\"months\"]}')\n",
    "print(f'hosts: {webex[\"hosts\"]}')\n",
    "print(f'participants: {webex[\"participants\"]}')\n",
    "print(f'countries: {webex[\"countries\"]}')\n",
    "print(f'meetings: {webex[\"meetings\"]}')\n",
    "print(f'minutes: {webex[\"minutes\"]}')\n",
    "print(f'timestamp: {webex[\"timestamp\"]}')    "
   ]
  },
  {
   "cell_type": "code",
   "execution_count": 25,
   "metadata": {},
   "outputs": [],
   "source": [
    "# Insert the new data into the database.\n",
    "try:\n",
    "    webex_scrape.insert_one(webex)\n",
    "except Exception as e:\n",
    "        print(e)\n"
   ]
  },
  {
   "cell_type": "code",
   "execution_count": 26,
   "metadata": {},
   "outputs": [
    {
     "name": "stdout",
     "output_type": "stream",
     "text": [
      "{'_id': ObjectId('5e7e36644c242bba3cef964f'), 'months': ['January 2020', 'February 2020', 'Current'], 'hosts': [32936, 35087, 40124], 'participants': [204837, 232421, 453729], 'countries': ['223', '224', '221'], 'meetings': [49587, 54589, 96919], 'minutes': [8481303, 9751439, 18422932], 'timestamp': '03/27/20 17:23:25'}\n",
      "{'_id': ObjectId('5e7e37ff7e476ac58d8339b6'), 'months': ['January 2020', 'February 2020', 'Current'], 'hosts': [32936, 35087, 40124], 'participants': [204837, 232421, 453776], 'countries': ['223', '224', '221'], 'meetings': [49587, 54589, 96937], 'minutes': [8481303, 9751439, 18426725], 'timestamp': '03/27/20 17:26:25'}\n",
      "{'_id': ObjectId('5e7e390e74a6e0c38f1d664c'), 'months': ['January 2020', 'February 2020', 'Current'], 'hosts': [32936, 35087, 40124], 'participants': [204837, 232421, 454203], 'countries': ['223', '224', '221'], 'meetings': [49587, 54589, 97031], 'minutes': [8481303, 9751439, 18438389], 'timestamp': '03/27/20 17:34:06'}\n",
      "{'_id': ObjectId('5e7e3e455875a69ba97380ae'), 'months': ['January 2020', 'February 2020', 'Current'], 'hosts': [32936, 35087, 40124], 'participants': [204837, 232421, 454564], 'countries': ['223', '224', '221'], 'meetings': [49587, 54589, 97131], 'minutes': [8481303, 9751439, 18467333], 'timestamp': '03/27/20 17:56:21'}\n",
      "{'_id': ObjectId('5e7e821694f10433b6593fa7'), 'months': ['January 2020', 'February 2020', 'Current'], 'hosts': [32936, 35087, 40124], 'participants': [204837, 232421, 460388], 'countries': ['223', '224', '221'], 'meetings': [49587, 54589, 98389], 'minutes': [8481303, 9751439, 18774046], 'timestamp': '03/27/20 22:45:41'}\n",
      "{'_id': ObjectId('5e7f3b4c94503abad844712e'), 'months': ['January 2020', 'February 2020', 'Current'], 'hosts': [32936, 35087, 38691], 'participants': [204837, 232421, 445529], 'countries': ['223', '224', '221'], 'meetings': [49587, 54589, 95222], 'minutes': [8481303, 9751439, 18212435], 'timestamp': '03/28/20 11:55:55'}\n",
      "{'_id': ObjectId('5e7f40140d568da2bb197f28'), 'months': ['January 2020', 'February 2020', 'Current'], 'hosts': [32936, 35087, 38691], 'participants': [204837, 232421, 445581], 'countries': ['223', '224', '221'], 'meetings': [49587, 54589, 95233], 'minutes': [8481303, 9751439, 18215585], 'timestamp': '03/28/20 12:16:19'}\n",
      "{'_id': ObjectId('5e7f5de584bc20e2ee583207'), 'months': ['January 2020', 'February 2020', 'Current'], 'hosts': [32936, 35087, 38691], 'participants': [204837, 232421, 445905], 'countries': ['223', '224', '221'], 'meetings': [49587, 54589, 95307], 'minutes': [8481303, 9751439, 18233346], 'timestamp': '03/28/20 14:23:33'}\n",
      "{'_id': ObjectId('5e7f5ec010c09eb09bb9517d'), 'months': ['January 2020', 'February 2020', 'Current'], 'hosts': [32936, 35087, 38691], 'participants': [204837, 232421, 445913], 'countries': ['223', '224', '221'], 'meetings': [49587, 54589, 95309], 'minutes': [8481303, 9751439, 18233913], 'timestamp': '03/28/20 14:27:12'}\n",
      "{'_id': ObjectId('5e7f60b45ec5bd4cbb1e058d'), 'months': ['January 2020', 'February 2020', 'Current'], 'hosts': [32936, 35087, 38691], 'participants': [204837, 232421, 445939], 'countries': ['223', '224', '221'], 'meetings': [49587, 54589, 95315], 'minutes': [8481303, 9751439, 18235190], 'timestamp': '03/28/20 14:35:32'}\n",
      "{'_id': ObjectId('5e8084995ec5bd4cbb1e058e'), 'months': ['January 2020', 'February 2020', 'Current'], 'hosts': [32936, 35087, 37357], 'participants': [204837, 232421, 432510], 'countries': ['223', '224', '221'], 'meetings': [49587, 54589, 92560], 'minutes': [8481303, 9751439, 17729589], 'timestamp': '03/29/20 11:20:57'}\n",
      "{'_id': ObjectId('5e81e647fa56ea89fce09a5d'), 'months': ['January 2020', 'February 2020', 'Current'], 'hosts': [32936, 35087, 36112], 'participants': [204837, 232421, 430824], 'countries': ['223', '224', '221'], 'meetings': [49587, 54589, 92057], 'minutes': [8481303, 9751439, 17591890], 'timestamp': '03/30/20 12:29:59'}\n",
      "{'_id': ObjectId('5e8254a7e478bfc3a92ab19a'), 'months': ['January 2020', 'February 2020', 'Current'], 'hosts': [32936, 35087, 36112], 'participants': [204837, 232421, 447648], 'countries': ['223', '224', '221'], 'meetings': [49587, 54589, 95498], 'minutes': [8481303, 9751439, 18246158], 'timestamp': '03/30/20 20:20:55'}\n",
      "{'_id': ObjectId('5e83286fc4492b947f7d2491'), 'months': ['January 2020', 'February 2020', 'Current'], 'hosts': [32936, 35087, 34947], 'participants': [204837, 232421, 445538], 'countries': ['223', '224', '221'], 'meetings': [49587, 54589, 94772], 'minutes': [8481303, 9751439, 18201704], 'timestamp': '03/31/20 11:24:31'}\n",
      "{'_id': ObjectId('5e8340aec4492b947f7d2492'), 'months': ['January 2020', 'February 2020', 'Current'], 'hosts': [32936, 35087, 34947], 'participants': [204837, 232421, 448996], 'countries': ['223', '224', '221'], 'meetings': [49587, 54589, 95437], 'minutes': [8481303, 9751439, 18304581], 'timestamp': '03/31/20 13:07:58'}\n",
      "{'_id': ObjectId('5e83b811c4492b947f7d2493'), 'months': ['January 2020', 'February 2020', 'Current'], 'hosts': [32936, 35087, 34947], 'participants': [204837, 232421, 465885], 'countries': ['223', '224', '221'], 'meetings': [49587, 54589, 98919], 'minutes': [8481303, 9751439, 19064612], 'timestamp': '03/31/20 21:37:21'}\n",
      "{'_id': ObjectId('5e83c730c4492b947f7d2494'), 'months': ['January 2020', 'February 2020', 'Current'], 'hosts': [32936, 35087, 34947], 'participants': [204837, 232421, 466488], 'countries': ['223', '224', '221'], 'meetings': [49587, 54589, 99057], 'minutes': [8481303, 9751439, 19108742], 'timestamp': '03/31/20 22:41:52'}\n",
      "{'_id': ObjectId('5e84b01d593d8fc87f170237'), 'months': ['February 2020', 'March 2020', 'Current'], 'hosts': ['24420815', '26000472', '26000472'], 'participants': [232421, 471360, 966819], 'countries': ['224', '220', '213'], 'meetings': [54589, 98515, 179029], 'minutes': [9751439, 19220735, 33051464], 'timestamp': '04/01/20 15:15:05'}\n",
      "{'_id': ObjectId('5e84b48a81b5d1ca71b647a8'), 'months': ['February 2020', 'March 2020', 'Current'], 'hosts': ['24420815', '26000472', '26000472'], 'participants': [232421, 471360, 628683], 'countries': ['224', '220', '213'], 'meetings': [54589, 98515, 117127], 'minutes': [9751439, 19220735, 21716249], 'timestamp': '04/01/20 15:34:34'}\n",
      "{'_id': ObjectId('5e84b5aa60b6e63568840b70'), 'months': ['February 2020', 'March 2020', 'Current'], 'hosts': ['24420815', '26000472', '26000472'], 'participants': [232421, 471360, 1012503], 'countries': ['224', '220', '213'], 'meetings': [54589, 98515, 188493], 'minutes': [9751439, 19220735, 35191740], 'timestamp': '04/01/20 15:39:22'}\n",
      "{'_id': ObjectId('5e85047be0b023bb6fff75d4'), 'months': ['February 2020', 'March 2020', 'Current'], 'hosts': ['24420815', '26000472', '26000472'], 'participants': [233427, 473269, 1079465], 'countries': ['224', '220', '213'], 'meetings': [54825, 98914, 209343], 'minutes': [9793653, 19298552, 42375002], 'timestamp': '04/01/20 21:08:00'}\n"
     ]
    }
   ],
   "source": [
    "# Debug: display items in MongoDB collection\n",
    "data = db.webex.find()\n",
    "\n",
    "for item in data:\n",
    "    print(item)\n"
   ]
  },
  {
   "cell_type": "code",
   "execution_count": null,
   "metadata": {},
   "outputs": [],
   "source": []
  }
 ],
 "metadata": {
  "kernelspec": {
   "display_name": "Python 3",
   "language": "python",
   "name": "python3"
  },
  "language_info": {
   "codemirror_mode": {
    "name": "ipython",
    "version": 3
   },
   "file_extension": ".py",
   "mimetype": "text/x-python",
   "name": "python",
   "nbconvert_exporter": "python",
   "pygments_lexer": "ipython3",
   "version": "3.6.9"
  }
 },
 "nbformat": 4,
 "nbformat_minor": 2
}
