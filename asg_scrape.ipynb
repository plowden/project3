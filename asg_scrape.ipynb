{
 "cells": [
  {
   "cell_type": "code",
   "execution_count": 1,
   "metadata": {},
   "outputs": [],
   "source": [
    "# import dependencies\n",
    "import pandas as pd\n",
    "import math"
   ]
  },
  {
   "cell_type": "code",
   "execution_count": 2,
   "metadata": {},
   "outputs": [],
   "source": [
    "# url to scrape\n",
    "url = 'https://www.basketball-reference.com/awards/all_star_by_player.html'\n",
    "\n",
    "# scrape table using pandas\n",
    "table = pd.read_html(url)[0]\n",
    "\n",
    "# drop the unnecessary columns\n",
    "table.drop(['Rk', 'Tot', 'ABA'], axis = 1, inplace = True)"
   ]
  },
  {
   "cell_type": "code",
   "execution_count": 3,
   "metadata": {},
   "outputs": [],
   "source": [
    "# format table\n",
    "table.rename(columns={'Player': 'player_name',\n",
    "                      'NBA': 'made_asg'}, inplace = True)"
   ]
  },
  {
   "cell_type": "code",
   "execution_count": 4,
   "metadata": {},
   "outputs": [],
   "source": [
    "# read in id_map\n",
    "id_map = pd.read_csv('data/id_map.csv')\n",
    "\n",
    "# merge table with id_map\n",
    "merged = pd.merge(id_map, table, on = 'player_name', how = 'left')"
   ]
  },
  {
   "cell_type": "code",
   "execution_count": 5,
   "metadata": {},
   "outputs": [],
   "source": [
    "# adjust made_asg to represent whether or not the player made at last one all-star game\n",
    "merged.loc[merged['made_asg'] >= 1, 'made_asg'] = 1\n",
    "merged['made_asg'] = merged['made_asg'].fillna(0)"
   ]
  },
  {
   "cell_type": "code",
   "execution_count": 6,
   "metadata": {},
   "outputs": [
    {
     "data": {
      "text/html": [
       "<div>\n",
       "<style scoped>\n",
       "    .dataframe tbody tr th:only-of-type {\n",
       "        vertical-align: middle;\n",
       "    }\n",
       "\n",
       "    .dataframe tbody tr th {\n",
       "        vertical-align: top;\n",
       "    }\n",
       "\n",
       "    .dataframe thead th {\n",
       "        text-align: right;\n",
       "    }\n",
       "</style>\n",
       "<table border=\"1\" class=\"dataframe\">\n",
       "  <thead>\n",
       "    <tr style=\"text-align: right;\">\n",
       "      <th></th>\n",
       "      <th>player_name</th>\n",
       "      <th>pro_id</th>\n",
       "      <th>cbb_id</th>\n",
       "      <th>made_asg</th>\n",
       "    </tr>\n",
       "  </thead>\n",
       "  <tbody>\n",
       "    <tr>\n",
       "      <th>0</th>\n",
       "      <td>Kenyon Martin</td>\n",
       "      <td>martike01</td>\n",
       "      <td>kenyon-martin-1</td>\n",
       "      <td>1.0</td>\n",
       "    </tr>\n",
       "    <tr>\n",
       "      <th>1</th>\n",
       "      <td>Stromile Swift</td>\n",
       "      <td>swiftst01</td>\n",
       "      <td>stromile-swift-1</td>\n",
       "      <td>0.0</td>\n",
       "    </tr>\n",
       "    <tr>\n",
       "      <th>2</th>\n",
       "      <td>Darius Miles</td>\n",
       "      <td>milesda01</td>\n",
       "      <td></td>\n",
       "      <td>0.0</td>\n",
       "    </tr>\n",
       "    <tr>\n",
       "      <th>3</th>\n",
       "      <td>Marcus Fizer</td>\n",
       "      <td>fizerma01</td>\n",
       "      <td>marcus-fizer-1</td>\n",
       "      <td>0.0</td>\n",
       "    </tr>\n",
       "    <tr>\n",
       "      <th>4</th>\n",
       "      <td>Mike Miller</td>\n",
       "      <td>millemi01</td>\n",
       "      <td>mike-miller-1</td>\n",
       "      <td>0.0</td>\n",
       "    </tr>\n",
       "  </tbody>\n",
       "</table>\n",
       "</div>"
      ],
      "text/plain": [
       "      player_name     pro_id            cbb_id  made_asg\n",
       "0   Kenyon Martin  martike01   kenyon-martin-1       1.0\n",
       "1  Stromile Swift  swiftst01  stromile-swift-1       0.0\n",
       "2    Darius Miles  milesda01                         0.0\n",
       "3    Marcus Fizer  fizerma01    marcus-fizer-1       0.0\n",
       "4     Mike Miller  millemi01     mike-miller-1       0.0"
      ]
     },
     "execution_count": 6,
     "metadata": {},
     "output_type": "execute_result"
    }
   ],
   "source": [
    "# fill remaining NA with None\n",
    "merged = merged.fillna('')\n",
    "\n",
    "# preview data\n",
    "merged.head()"
   ]
  },
  {
   "cell_type": "code",
   "execution_count": 7,
   "metadata": {},
   "outputs": [],
   "source": [
    "# write to csv\n",
    "merged.to_csv('data/id_map_asg.csv')"
   ]
  }
 ],
 "metadata": {
  "kernelspec": {
   "display_name": "Python [conda env:PythonData] *",
   "language": "python",
   "name": "conda-env-PythonData-py"
  },
  "language_info": {
   "codemirror_mode": {
    "name": "ipython",
    "version": 3
   },
   "file_extension": ".py",
   "mimetype": "text/x-python",
   "name": "python",
   "nbconvert_exporter": "python",
   "pygments_lexer": "ipython3",
   "version": "3.6.9"
  }
 },
 "nbformat": 4,
 "nbformat_minor": 2
}
