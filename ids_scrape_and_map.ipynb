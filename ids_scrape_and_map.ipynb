{
 "cells": [
  {
   "cell_type": "code",
   "execution_count": null,
   "metadata": {},
   "outputs": [],
   "source": [
    "#import dependencies\n",
    "from bs4 import BeautifulSoup\n",
    "import requests\n",
    "import re\n",
    "import numpy as np\n",
    "import pandas as pd"
   ]
  },
  {
   "cell_type": "code",
   "execution_count": null,
   "metadata": {},
   "outputs": [],
   "source": [
    "# build url for scraping\n",
    "base_url = 'https://www.basketball-reference.com/draft/'\n",
    "\n",
    "# seasons to scrape\n",
    "seasons = np.arange(2000,2020)\n",
    "\n",
    "# create arrays to hold data\n",
    "names = []\n",
    "ids = []"
   ]
  },
  {
   "cell_type": "code",
   "execution_count": null,
   "metadata": {
    "scrolled": true
   },
   "outputs": [],
   "source": [
    "# iterate thru list of seasons\n",
    "for season in seasons:\n",
    "    \n",
    "    # build url\n",
    "    url_end = f'NBA_{season}.html'\n",
    "    url = base_url + url_end\n",
    "    \n",
    "    # retrieve page with the requests module\n",
    "    response = requests.get(url)\n",
    "    \n",
    "    # create BeautifulSoup object; parse with 'lxml'\n",
    "    soup = BeautifulSoup(response.text, 'lxml')\n",
    "    \n",
    "    # get table from page\n",
    "    draft_table = soup.find('table', id='stats')\n",
    "    \n",
    "    # get rows with player information\n",
    "    rows = draft_table.findAll('td', {'data-stat' : 'player'}, class_= 'left')\n",
    "    \n",
    "    # get player ids from rows\n",
    "    for row in rows:        \n",
    "        \n",
    "        # pull player name\n",
    "        try:\n",
    "            player_name = row.find('a').text\n",
    "            names.append(player_name)\n",
    "        except:\n",
    "            print('Player has no id. Moving to next player...')\n",
    "        \n",
    "        # pull player id\n",
    "        try:\n",
    "            player_href = row.find('a')['href']\n",
    "            player_formatted = player_href.replace('/', '.')\n",
    "            player_id = player_formatted.split('.')[3]\n",
    "            ids.append(player_id)\n",
    "        except:\n",
    "            None"
   ]
  },
  {
   "cell_type": "code",
   "execution_count": null,
   "metadata": {},
   "outputs": [],
   "source": [
    "# base url for scraping\n",
    "base_url = 'https://www.basketball-reference.com/players/'\n",
    "\n",
    "# empty array to hold data\n",
    "cbb_ids = []"
   ]
  },
  {
   "cell_type": "code",
   "execution_count": null,
   "metadata": {
    "scrolled": true
   },
   "outputs": [],
   "source": [
    "for player_id in ids:\n",
    "    \n",
    "    # build final url\n",
    "    url_end = f'{player_id[0]}/{player_id}.html'\n",
    "    url = base_url + url_end\n",
    "    \n",
    "    # retrieve page with the requests module\n",
    "    response = requests.get(url)\n",
    "\n",
    "    # create BeautifulSoup object; parse with 'lxml'\n",
    "    soup = BeautifulSoup(response.text, 'lxml')\n",
    "\n",
    "    # get relevant html\n",
    "    results = soup.find_all('div', id='inner_nav')\n",
    "    \n",
    "    for result in results:\n",
    "        # parse CBB id\n",
    "        try:\n",
    "            page_link = result.find('a', text='College Basketball at Sports-Reference.com')['href']\n",
    "            formatted = page_link.replace('/', '.')\n",
    "            cbb_ids.append(formatted.split('.')[7])\n",
    "            print(f'Match found for {player_id}!')\n",
    "        except:\n",
    "            print(f'No match found for {player_id}.')\n",
    "            cbb_ids.append(None)"
   ]
  },
  {
   "cell_type": "code",
   "execution_count": null,
   "metadata": {},
   "outputs": [],
   "source": [
    "# build id mapping dataframe\n",
    "id_map = pd.DataFrame({'player_name': names,\n",
    "                       'pro_id': ids,\n",
    "                       'cbb_id': cbb_ids})\n",
    "\n",
    "# export to .csv\n",
    "id_map.to_csv('data/id_map.csv', index = False)"
   ]
  }
 ],
 "metadata": {
  "kernelspec": {
   "display_name": "Python [conda env:PythonData] *",
   "language": "python",
   "name": "conda-env-PythonData-py"
  },
  "language_info": {
   "codemirror_mode": {
    "name": "ipython",
    "version": 3
   },
   "file_extension": ".py",
   "mimetype": "text/x-python",
   "name": "python",
   "nbconvert_exporter": "python",
   "pygments_lexer": "ipython3",
   "version": "3.6.9"
  }
 },
 "nbformat": 4,
 "nbformat_minor": 2
}
